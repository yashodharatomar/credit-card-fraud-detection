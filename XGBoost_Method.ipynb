{
  "nbformat": 4,
  "nbformat_minor": 0,
  "metadata": {
    "colab": {
      "provenance": [],
      "mount_file_id": "1Yy-8Rx8PvRy-qJZc88JjutDxf5jyMnqb",
      "authorship_tag": "ABX9TyPck0Z+Gsmrgh47z1Mb6cas",
      "include_colab_link": true
    },
    "kernelspec": {
      "name": "python3",
      "display_name": "Python 3"
    },
    "language_info": {
      "name": "python"
    }
  },
  "cells": [
    {
      "cell_type": "markdown",
      "metadata": {
        "id": "view-in-github",
        "colab_type": "text"
      },
      "source": [
        "<a href=\"https://colab.research.google.com/github/yashodharatomar/credit_card_fraud_detection/blob/main/XGBoost_Method.ipynb\" target=\"_parent\"><img src=\"https://colab.research.google.com/assets/colab-badge.svg\" alt=\"Open In Colab\"/></a>"
      ]
    },
    {
      "cell_type": "markdown",
      "source": [
        "#Using XGBoost, SMOTE, and threshold moving"
      ],
      "metadata": {
        "id": "DjRvnfbXQ1al"
      }
    },
    {
      "cell_type": "code",
      "execution_count": null,
      "metadata": {
        "id": "wB-MeOIJ2ujG"
      },
      "outputs": [],
      "source": [
        "import pandas as pd\n",
        "import matplotlib.pyplot as plt\n",
        "import numpy as np\n",
        "import random\n",
        "import seaborn as sns\n",
        "\n",
        "from sklearn.model_selection import train_test_split\n",
        "from sklearn.model_selection import StratifiedKFold\n",
        "from sklearn.model_selection import GridSearchCV\n",
        "\n",
        "from imblearn.over_sampling import SMOTE\n",
        "\n",
        "from xgboost import XGBClassifier\n",
        "from xgboost import Booster\n",
        "from xgboost import DMatrix\n",
        "\n",
        "from sklearn import metrics\n",
        "\n",
        "from datetime import datetime\n",
        "\n",
        "file_link = \"/content/drive/MyDrive/creditcard.csv\"\n",
        "dataDF = pd.read_csv(file_link, sep=\",\")\n"
      ]
    },
    {
      "cell_type": "markdown",
      "source": [
        "Feature Engineering\n",
        "\n",
        "Creating a holdout set to prevent any information leakage into our test set."
      ],
      "metadata": {
        "id": "NAENw9p-Q7wj"
      }
    },
    {
      "cell_type": "code",
      "source": [
        "trainDF, testDF = train_test_split(dataDF, test_size=0.2, random_state=1234, stratify=dataDF[[\"Class\"]])\n",
        "\n",
        "tr_value_counts = trainDF[\"Class\"].value_counts()\n",
        "print(\"Fraudulent transactions are %.2f%% of the training set.\" % (tr_value_counts[1] * 100 / len(trainDF)))\n",
        "\n",
        "tst_value_counts = testDF[\"Class\"].value_counts()\n",
        "print(\"Fraudulent transactions are %.2f%% of the test set.\" % (tst_value_counts[1] * 100 / len(testDF)))"
      ],
      "metadata": {
        "colab": {
          "base_uri": "https://localhost:8080/"
        },
        "id": "k_NR0Ueu--5s",
        "outputId": "28d36d35-3568-4b57-c5f8-1d391242a844"
      },
      "execution_count": null,
      "outputs": [
        {
          "output_type": "stream",
          "name": "stdout",
          "text": [
            "Fraudulent transactions are 0.17% of the training set.\n",
            "Fraudulent transactions are 0.17% of the test set.\n"
          ]
        }
      ]
    },
    {
      "cell_type": "markdown",
      "source": [
        "Making the Amount and Hour attribute zero mean centered."
      ],
      "metadata": {
        "id": "bv2RS5M6RA2l"
      }
    },
    {
      "cell_type": "code",
      "source": [
        "trainDF_norm = trainDF.copy()\n",
        "\n",
        "trainDF_norm[\"Amount\"] = trainDF[\"Amount\"].subtract(trainDF[\"Amount\"].mean())\n",
        "# trainDF_norm[\"Hour\"] = trainDF[\"Hour\"].subtract(trainDF[\"Hour\"].mean())\n",
        "\n",
        "\n",
        "testDF_norm = testDF.copy()\n",
        "\n",
        "testDF_norm[\"Amount\"] = testDF[\"Amount\"].subtract(testDF[\"Amount\"].mean())\n",
        "# testDF_norm[\"Hour\"] = testDF[\"Hour\"].subtract(testDF[\"Hour\"].mean())\n",
        "\n",
        "trainDF = trainDF_norm\n",
        "testDF = testDF_norm"
      ],
      "metadata": {
        "id": "0pXQoaK1_Akx"
      },
      "execution_count": null,
      "outputs": []
    },
    {
      "cell_type": "markdown",
      "source": [
        "Dropping the Time attribute as we will be using Hour instead.\n",
        "\n"
      ],
      "metadata": {
        "id": "nd0z9JtBRFO-"
      }
    },
    {
      "cell_type": "code",
      "source": [
        "trainDF = trainDF.drop([\"Time\"], axis=1)\n",
        "testDF = testDF.drop([\"Time\"], axis=1)\n"
      ],
      "metadata": {
        "id": "ipo7IXXR_aRy"
      },
      "execution_count": null,
      "outputs": []
    },
    {
      "cell_type": "markdown",
      "source": [
        "Splitting the independent and the class variables into separate data frames.\n",
        "\n"
      ],
      "metadata": {
        "id": "zAeUioDqRIEr"
      }
    },
    {
      "cell_type": "code",
      "source": [
        "X_train = trainDF.iloc[:, trainDF.columns != \"Class\"]\n",
        "y_train = trainDF.iloc[:, trainDF.columns == \"Class\"]\n",
        "X_test = testDF.iloc[:, testDF.columns != \"Class\"]\n",
        "y_test = testDF.iloc[:, testDF.columns == \"Class\"]\n",
        "X_train.head()"
      ],
      "metadata": {
        "colab": {
          "base_uri": "https://localhost:8080/",
          "height": 255
        },
        "id": "Lj--rzXEAoVc",
        "outputId": "a9f10a8a-8f56-48a9-9328-adeabe3c5474"
      },
      "execution_count": null,
      "outputs": [
        {
          "output_type": "execute_result",
          "data": {
            "text/plain": [
              "              V1        V2        V3        V4        V5        V6        V7  \\\n",
              "135152  1.082410 -0.074595  1.395121  1.373155 -0.957702  0.076975 -0.624897   \n",
              "103706  1.012932  0.188189  1.614652  2.594349 -0.608548  0.838769 -0.682672   \n",
              "231651 -0.700875  0.090423  1.540104 -3.114105  0.458284  0.430556  0.182614   \n",
              "199939 -0.429842 -0.594603  0.676445 -2.603120  1.498860  4.231149 -1.079401   \n",
              "103404  1.295579  1.011229 -3.192073  0.471632  3.350053  2.432852  0.189805   \n",
              "\n",
              "              V8        V9       V10  ...       V20       V21       V22  \\\n",
              "135152  0.204656  0.860576 -0.248178  ... -0.170510 -0.011536  0.203804   \n",
              "103706  0.399546 -0.259848  0.597131  ... -0.138771  0.017388  0.217521   \n",
              "231651  0.195305 -1.230480 -0.503483  ...  0.082503 -0.069127 -0.367488   \n",
              "199939  1.239169 -0.797602 -0.002607  ... -0.284917 -0.015413  0.213932   \n",
              "103404  0.621685 -0.556724 -1.487450  ...  0.086355 -0.263133 -0.825472   \n",
              "\n",
              "             V23       V24       V25       V26       V27       V28    Amount  \n",
              "135152  0.062781  0.398966  0.298497 -0.399509  0.089284  0.038552 -76.75017  \n",
              "103706  0.074358  0.230008  0.185481 -0.046162  0.058670  0.026582 -81.45017  \n",
              "231651 -0.448596 -1.460857  0.627512 -0.475224  0.003550  0.026878 -76.25017  \n",
              "199939  0.090396  0.694341 -0.697503  0.591872  0.158109  0.165911 -42.35017  \n",
              "103404 -0.245425  0.674759  1.010771 -0.279081  0.040506  0.090607 -83.26017  \n",
              "\n",
              "[5 rows x 29 columns]"
            ],
            "text/html": [
              "\n",
              "  <div id=\"df-bc9345c9-7e3a-4f61-ba60-23d57470e7be\" class=\"colab-df-container\">\n",
              "    <div>\n",
              "<style scoped>\n",
              "    .dataframe tbody tr th:only-of-type {\n",
              "        vertical-align: middle;\n",
              "    }\n",
              "\n",
              "    .dataframe tbody tr th {\n",
              "        vertical-align: top;\n",
              "    }\n",
              "\n",
              "    .dataframe thead th {\n",
              "        text-align: right;\n",
              "    }\n",
              "</style>\n",
              "<table border=\"1\" class=\"dataframe\">\n",
              "  <thead>\n",
              "    <tr style=\"text-align: right;\">\n",
              "      <th></th>\n",
              "      <th>V1</th>\n",
              "      <th>V2</th>\n",
              "      <th>V3</th>\n",
              "      <th>V4</th>\n",
              "      <th>V5</th>\n",
              "      <th>V6</th>\n",
              "      <th>V7</th>\n",
              "      <th>V8</th>\n",
              "      <th>V9</th>\n",
              "      <th>V10</th>\n",
              "      <th>...</th>\n",
              "      <th>V20</th>\n",
              "      <th>V21</th>\n",
              "      <th>V22</th>\n",
              "      <th>V23</th>\n",
              "      <th>V24</th>\n",
              "      <th>V25</th>\n",
              "      <th>V26</th>\n",
              "      <th>V27</th>\n",
              "      <th>V28</th>\n",
              "      <th>Amount</th>\n",
              "    </tr>\n",
              "  </thead>\n",
              "  <tbody>\n",
              "    <tr>\n",
              "      <th>135152</th>\n",
              "      <td>1.082410</td>\n",
              "      <td>-0.074595</td>\n",
              "      <td>1.395121</td>\n",
              "      <td>1.373155</td>\n",
              "      <td>-0.957702</td>\n",
              "      <td>0.076975</td>\n",
              "      <td>-0.624897</td>\n",
              "      <td>0.204656</td>\n",
              "      <td>0.860576</td>\n",
              "      <td>-0.248178</td>\n",
              "      <td>...</td>\n",
              "      <td>-0.170510</td>\n",
              "      <td>-0.011536</td>\n",
              "      <td>0.203804</td>\n",
              "      <td>0.062781</td>\n",
              "      <td>0.398966</td>\n",
              "      <td>0.298497</td>\n",
              "      <td>-0.399509</td>\n",
              "      <td>0.089284</td>\n",
              "      <td>0.038552</td>\n",
              "      <td>-76.75017</td>\n",
              "    </tr>\n",
              "    <tr>\n",
              "      <th>103706</th>\n",
              "      <td>1.012932</td>\n",
              "      <td>0.188189</td>\n",
              "      <td>1.614652</td>\n",
              "      <td>2.594349</td>\n",
              "      <td>-0.608548</td>\n",
              "      <td>0.838769</td>\n",
              "      <td>-0.682672</td>\n",
              "      <td>0.399546</td>\n",
              "      <td>-0.259848</td>\n",
              "      <td>0.597131</td>\n",
              "      <td>...</td>\n",
              "      <td>-0.138771</td>\n",
              "      <td>0.017388</td>\n",
              "      <td>0.217521</td>\n",
              "      <td>0.074358</td>\n",
              "      <td>0.230008</td>\n",
              "      <td>0.185481</td>\n",
              "      <td>-0.046162</td>\n",
              "      <td>0.058670</td>\n",
              "      <td>0.026582</td>\n",
              "      <td>-81.45017</td>\n",
              "    </tr>\n",
              "    <tr>\n",
              "      <th>231651</th>\n",
              "      <td>-0.700875</td>\n",
              "      <td>0.090423</td>\n",
              "      <td>1.540104</td>\n",
              "      <td>-3.114105</td>\n",
              "      <td>0.458284</td>\n",
              "      <td>0.430556</td>\n",
              "      <td>0.182614</td>\n",
              "      <td>0.195305</td>\n",
              "      <td>-1.230480</td>\n",
              "      <td>-0.503483</td>\n",
              "      <td>...</td>\n",
              "      <td>0.082503</td>\n",
              "      <td>-0.069127</td>\n",
              "      <td>-0.367488</td>\n",
              "      <td>-0.448596</td>\n",
              "      <td>-1.460857</td>\n",
              "      <td>0.627512</td>\n",
              "      <td>-0.475224</td>\n",
              "      <td>0.003550</td>\n",
              "      <td>0.026878</td>\n",
              "      <td>-76.25017</td>\n",
              "    </tr>\n",
              "    <tr>\n",
              "      <th>199939</th>\n",
              "      <td>-0.429842</td>\n",
              "      <td>-0.594603</td>\n",
              "      <td>0.676445</td>\n",
              "      <td>-2.603120</td>\n",
              "      <td>1.498860</td>\n",
              "      <td>4.231149</td>\n",
              "      <td>-1.079401</td>\n",
              "      <td>1.239169</td>\n",
              "      <td>-0.797602</td>\n",
              "      <td>-0.002607</td>\n",
              "      <td>...</td>\n",
              "      <td>-0.284917</td>\n",
              "      <td>-0.015413</td>\n",
              "      <td>0.213932</td>\n",
              "      <td>0.090396</td>\n",
              "      <td>0.694341</td>\n",
              "      <td>-0.697503</td>\n",
              "      <td>0.591872</td>\n",
              "      <td>0.158109</td>\n",
              "      <td>0.165911</td>\n",
              "      <td>-42.35017</td>\n",
              "    </tr>\n",
              "    <tr>\n",
              "      <th>103404</th>\n",
              "      <td>1.295579</td>\n",
              "      <td>1.011229</td>\n",
              "      <td>-3.192073</td>\n",
              "      <td>0.471632</td>\n",
              "      <td>3.350053</td>\n",
              "      <td>2.432852</td>\n",
              "      <td>0.189805</td>\n",
              "      <td>0.621685</td>\n",
              "      <td>-0.556724</td>\n",
              "      <td>-1.487450</td>\n",
              "      <td>...</td>\n",
              "      <td>0.086355</td>\n",
              "      <td>-0.263133</td>\n",
              "      <td>-0.825472</td>\n",
              "      <td>-0.245425</td>\n",
              "      <td>0.674759</td>\n",
              "      <td>1.010771</td>\n",
              "      <td>-0.279081</td>\n",
              "      <td>0.040506</td>\n",
              "      <td>0.090607</td>\n",
              "      <td>-83.26017</td>\n",
              "    </tr>\n",
              "  </tbody>\n",
              "</table>\n",
              "<p>5 rows × 29 columns</p>\n",
              "</div>\n",
              "    <div class=\"colab-df-buttons\">\n",
              "\n",
              "  <div class=\"colab-df-container\">\n",
              "    <button class=\"colab-df-convert\" onclick=\"convertToInteractive('df-bc9345c9-7e3a-4f61-ba60-23d57470e7be')\"\n",
              "            title=\"Convert this dataframe to an interactive table.\"\n",
              "            style=\"display:none;\">\n",
              "\n",
              "  <svg xmlns=\"http://www.w3.org/2000/svg\" height=\"24px\" viewBox=\"0 -960 960 960\">\n",
              "    <path d=\"M120-120v-720h720v720H120Zm60-500h600v-160H180v160Zm220 220h160v-160H400v160Zm0 220h160v-160H400v160ZM180-400h160v-160H180v160Zm440 0h160v-160H620v160ZM180-180h160v-160H180v160Zm440 0h160v-160H620v160Z\"/>\n",
              "  </svg>\n",
              "    </button>\n",
              "\n",
              "  <style>\n",
              "    .colab-df-container {\n",
              "      display:flex;\n",
              "      gap: 12px;\n",
              "    }\n",
              "\n",
              "    .colab-df-convert {\n",
              "      background-color: #E8F0FE;\n",
              "      border: none;\n",
              "      border-radius: 50%;\n",
              "      cursor: pointer;\n",
              "      display: none;\n",
              "      fill: #1967D2;\n",
              "      height: 32px;\n",
              "      padding: 0 0 0 0;\n",
              "      width: 32px;\n",
              "    }\n",
              "\n",
              "    .colab-df-convert:hover {\n",
              "      background-color: #E2EBFA;\n",
              "      box-shadow: 0px 1px 2px rgba(60, 64, 67, 0.3), 0px 1px 3px 1px rgba(60, 64, 67, 0.15);\n",
              "      fill: #174EA6;\n",
              "    }\n",
              "\n",
              "    .colab-df-buttons div {\n",
              "      margin-bottom: 4px;\n",
              "    }\n",
              "\n",
              "    [theme=dark] .colab-df-convert {\n",
              "      background-color: #3B4455;\n",
              "      fill: #D2E3FC;\n",
              "    }\n",
              "\n",
              "    [theme=dark] .colab-df-convert:hover {\n",
              "      background-color: #434B5C;\n",
              "      box-shadow: 0px 1px 3px 1px rgba(0, 0, 0, 0.15);\n",
              "      filter: drop-shadow(0px 1px 2px rgba(0, 0, 0, 0.3));\n",
              "      fill: #FFFFFF;\n",
              "    }\n",
              "  </style>\n",
              "\n",
              "    <script>\n",
              "      const buttonEl =\n",
              "        document.querySelector('#df-bc9345c9-7e3a-4f61-ba60-23d57470e7be button.colab-df-convert');\n",
              "      buttonEl.style.display =\n",
              "        google.colab.kernel.accessAllowed ? 'block' : 'none';\n",
              "\n",
              "      async function convertToInteractive(key) {\n",
              "        const element = document.querySelector('#df-bc9345c9-7e3a-4f61-ba60-23d57470e7be');\n",
              "        const dataTable =\n",
              "          await google.colab.kernel.invokeFunction('convertToInteractive',\n",
              "                                                    [key], {});\n",
              "        if (!dataTable) return;\n",
              "\n",
              "        const docLinkHtml = 'Like what you see? Visit the ' +\n",
              "          '<a target=\"_blank\" href=https://colab.research.google.com/notebooks/data_table.ipynb>data table notebook</a>'\n",
              "          + ' to learn more about interactive tables.';\n",
              "        element.innerHTML = '';\n",
              "        dataTable['output_type'] = 'display_data';\n",
              "        await google.colab.output.renderOutput(dataTable, element);\n",
              "        const docLink = document.createElement('div');\n",
              "        docLink.innerHTML = docLinkHtml;\n",
              "        element.appendChild(docLink);\n",
              "      }\n",
              "    </script>\n",
              "  </div>\n",
              "\n",
              "\n",
              "<div id=\"df-9df12314-a44a-4272-9ff2-438d88b85389\">\n",
              "  <button class=\"colab-df-quickchart\" onclick=\"quickchart('df-9df12314-a44a-4272-9ff2-438d88b85389')\"\n",
              "            title=\"Suggest charts\"\n",
              "            style=\"display:none;\">\n",
              "\n",
              "<svg xmlns=\"http://www.w3.org/2000/svg\" height=\"24px\"viewBox=\"0 0 24 24\"\n",
              "     width=\"24px\">\n",
              "    <g>\n",
              "        <path d=\"M19 3H5c-1.1 0-2 .9-2 2v14c0 1.1.9 2 2 2h14c1.1 0 2-.9 2-2V5c0-1.1-.9-2-2-2zM9 17H7v-7h2v7zm4 0h-2V7h2v10zm4 0h-2v-4h2v4z\"/>\n",
              "    </g>\n",
              "</svg>\n",
              "  </button>\n",
              "\n",
              "<style>\n",
              "  .colab-df-quickchart {\n",
              "      --bg-color: #E8F0FE;\n",
              "      --fill-color: #1967D2;\n",
              "      --hover-bg-color: #E2EBFA;\n",
              "      --hover-fill-color: #174EA6;\n",
              "      --disabled-fill-color: #AAA;\n",
              "      --disabled-bg-color: #DDD;\n",
              "  }\n",
              "\n",
              "  [theme=dark] .colab-df-quickchart {\n",
              "      --bg-color: #3B4455;\n",
              "      --fill-color: #D2E3FC;\n",
              "      --hover-bg-color: #434B5C;\n",
              "      --hover-fill-color: #FFFFFF;\n",
              "      --disabled-bg-color: #3B4455;\n",
              "      --disabled-fill-color: #666;\n",
              "  }\n",
              "\n",
              "  .colab-df-quickchart {\n",
              "    background-color: var(--bg-color);\n",
              "    border: none;\n",
              "    border-radius: 50%;\n",
              "    cursor: pointer;\n",
              "    display: none;\n",
              "    fill: var(--fill-color);\n",
              "    height: 32px;\n",
              "    padding: 0;\n",
              "    width: 32px;\n",
              "  }\n",
              "\n",
              "  .colab-df-quickchart:hover {\n",
              "    background-color: var(--hover-bg-color);\n",
              "    box-shadow: 0 1px 2px rgba(60, 64, 67, 0.3), 0 1px 3px 1px rgba(60, 64, 67, 0.15);\n",
              "    fill: var(--button-hover-fill-color);\n",
              "  }\n",
              "\n",
              "  .colab-df-quickchart-complete:disabled,\n",
              "  .colab-df-quickchart-complete:disabled:hover {\n",
              "    background-color: var(--disabled-bg-color);\n",
              "    fill: var(--disabled-fill-color);\n",
              "    box-shadow: none;\n",
              "  }\n",
              "\n",
              "  .colab-df-spinner {\n",
              "    border: 2px solid var(--fill-color);\n",
              "    border-color: transparent;\n",
              "    border-bottom-color: var(--fill-color);\n",
              "    animation:\n",
              "      spin 1s steps(1) infinite;\n",
              "  }\n",
              "\n",
              "  @keyframes spin {\n",
              "    0% {\n",
              "      border-color: transparent;\n",
              "      border-bottom-color: var(--fill-color);\n",
              "      border-left-color: var(--fill-color);\n",
              "    }\n",
              "    20% {\n",
              "      border-color: transparent;\n",
              "      border-left-color: var(--fill-color);\n",
              "      border-top-color: var(--fill-color);\n",
              "    }\n",
              "    30% {\n",
              "      border-color: transparent;\n",
              "      border-left-color: var(--fill-color);\n",
              "      border-top-color: var(--fill-color);\n",
              "      border-right-color: var(--fill-color);\n",
              "    }\n",
              "    40% {\n",
              "      border-color: transparent;\n",
              "      border-right-color: var(--fill-color);\n",
              "      border-top-color: var(--fill-color);\n",
              "    }\n",
              "    60% {\n",
              "      border-color: transparent;\n",
              "      border-right-color: var(--fill-color);\n",
              "    }\n",
              "    80% {\n",
              "      border-color: transparent;\n",
              "      border-right-color: var(--fill-color);\n",
              "      border-bottom-color: var(--fill-color);\n",
              "    }\n",
              "    90% {\n",
              "      border-color: transparent;\n",
              "      border-bottom-color: var(--fill-color);\n",
              "    }\n",
              "  }\n",
              "</style>\n",
              "\n",
              "  <script>\n",
              "    async function quickchart(key) {\n",
              "      const quickchartButtonEl =\n",
              "        document.querySelector('#' + key + ' button');\n",
              "      quickchartButtonEl.disabled = true;  // To prevent multiple clicks.\n",
              "      quickchartButtonEl.classList.add('colab-df-spinner');\n",
              "      try {\n",
              "        const charts = await google.colab.kernel.invokeFunction(\n",
              "            'suggestCharts', [key], {});\n",
              "      } catch (error) {\n",
              "        console.error('Error during call to suggestCharts:', error);\n",
              "      }\n",
              "      quickchartButtonEl.classList.remove('colab-df-spinner');\n",
              "      quickchartButtonEl.classList.add('colab-df-quickchart-complete');\n",
              "    }\n",
              "    (() => {\n",
              "      let quickchartButtonEl =\n",
              "        document.querySelector('#df-9df12314-a44a-4272-9ff2-438d88b85389 button');\n",
              "      quickchartButtonEl.style.display =\n",
              "        google.colab.kernel.accessAllowed ? 'block' : 'none';\n",
              "    })();\n",
              "  </script>\n",
              "</div>\n",
              "    </div>\n",
              "  </div>\n"
            ],
            "application/vnd.google.colaboratory.intrinsic+json": {
              "type": "dataframe",
              "variable_name": "X_train"
            }
          },
          "metadata": {},
          "execution_count": 29
        }
      ]
    },
    {
      "cell_type": "markdown",
      "source": [
        "Using Synthetic Minority Over-sampling Technique (SMOTE) to resolve class imbalance.\n",
        "\n"
      ],
      "metadata": {
        "id": "P23dJU_VRLaF"
      }
    },
    {
      "cell_type": "code",
      "source": [
        "X_train_smote, y_train_smote = SMOTE(random_state=1234).fit_resample(X_train, y_train)\n",
        "\n",
        "# Get value counts\n",
        "smote_value_counts = y_train_smote[\"Class\"].value_counts()\n",
        "\n",
        "# Calculate the percentage of fraudulent transactions\n",
        "fraudulent_percentage = smote_value_counts[1] * 100 / len(y_train_smote)\n",
        "\n",
        "# Print the result\n",
        "print(\"Fraudulent transactions are %.2f%% of the test set.\" % fraudulent_percentage)"
      ],
      "metadata": {
        "colab": {
          "base_uri": "https://localhost:8080/"
        },
        "id": "MA7zBrFsAq3B",
        "outputId": "0353b890-8b3d-4992-dee8-87e8acd9cadd"
      },
      "execution_count": null,
      "outputs": [
        {
          "output_type": "stream",
          "name": "stdout",
          "text": [
            "Fraudulent transactions are 50.00% of the test set.\n"
          ]
        }
      ]
    },
    {
      "cell_type": "markdown",
      "source": [
        "Model training\n",
        "\n",
        "Training a XGBoost classifier, using the oversampled training set.\n",
        "\n",
        "First, we define a function that will perform a grid search for the optimal hyperparameters of the classifier. The highlights of the function are as follows:\n",
        "\n",
        "1.We do a parameter search over the hyperparameters given in params.\n",
        "\n",
        "2.The cross-validation strategy for each model uses 3 folds in a stratified KFold.\n",
        "\n",
        "3.The metric the models in the search are evaluated on is the Area Under the Receiver Operating Characteristic Curve (ROC AUC).\n",
        "\n",
        "The function prints the parameters that yield the highest AUC score and returns the parameters of the best estimator as its output"
      ],
      "metadata": {
        "id": "gCsa1J1YRQWs"
      }
    },
    {
      "cell_type": "code",
      "source": [
        "def xgboost_search(X, y, search_verbose=1):\n",
        "\n",
        "    params = {\n",
        "        \"gamma\":[0.5, 1, 1.5, 2, 5],\n",
        "        \"max_depth\":[3,4,5,6],\n",
        "        \"min_child_weight\": [100],\n",
        "        \"subsample\": [0.6, 0.8, 1.0],\n",
        "        \"colsample_bytree\": [0.6, 0.8, 1.0],\n",
        "        \"learning_rate\": [0.1, 0.01, 0.001]\n",
        "    }\n",
        "\n",
        "    xgb = XGBClassifier(objective=\"binary:logistic\", eval_metric=\"auc\", use_label_encoder=False)\n",
        "\n",
        "    skf = StratifiedKFold(n_splits=3, shuffle=True, random_state=1234)\n",
        "\n",
        "    grid_search = GridSearchCV(estimator=xgb, param_grid=params, scoring=\"roc_auc\", n_jobs=1, cv=skf.split(X,y), verbose=search_verbose)\n",
        "\n",
        "    grid_search.fit(X, y)\n",
        "\n",
        "    print(\"Best estimator: \")\n",
        "    print(grid_search.best_estimator_)\n",
        "    print(\"Parameters: \", grid_search.best_params_)\n",
        "    print(\"Highest AUC: %.2f\" % grid_search.best_score_)\n",
        "\n",
        "    return grid_search.best_params_"
      ],
      "metadata": {
        "id": "NoOHV45hAuNF"
      },
      "execution_count": null,
      "outputs": []
    },
    {
      "cell_type": "markdown",
      "source": [
        "After xgboost_search goes through all possible estimators it will print the parameters used for the best performing one, and will return an XGBClassifier object that we can use to check how well the model generalises."
      ],
      "metadata": {
        "id": "qwKxST8sRb8-"
      }
    },
    {
      "cell_type": "code",
      "source": [
        "rows = random.sample(np.arange(0,len(X_train_smote.index)).tolist(), 5000)\n",
        "model_params = xgboost_search(X_train_smote.iloc[rows,], y_train_smote.iloc[rows,])"
      ],
      "metadata": {
        "colab": {
          "base_uri": "https://localhost:8080/"
        },
        "id": "6shsBm5-BkFF",
        "outputId": "da2704ef-2f87-4015-db4a-1fa8e5db276e"
      },
      "execution_count": null,
      "outputs": [
        {
          "output_type": "stream",
          "name": "stdout",
          "text": [
            "Fitting 3 folds for each of 540 candidates, totalling 1620 fits\n",
            "Best estimator: \n",
            "XGBClassifier(base_score=None, booster=None, callbacks=None,\n",
            "              colsample_bylevel=None, colsample_bynode=None,\n",
            "              colsample_bytree=0.6, device=None, early_stopping_rounds=None,\n",
            "              enable_categorical=False, eval_metric='auc', feature_types=None,\n",
            "              gamma=0.5, grow_policy=None, importance_type=None,\n",
            "              interaction_constraints=None, learning_rate=0.1, max_bin=None,\n",
            "              max_cat_threshold=None, max_cat_to_onehot=None,\n",
            "              max_delta_step=None, max_depth=3, max_leaves=None,\n",
            "              min_child_weight=100, missing=nan, monotone_constraints=None,\n",
            "              multi_strategy=None, n_estimators=None, n_jobs=None,\n",
            "              num_parallel_tree=None, random_state=None, ...)\n",
            "Parameters:  {'colsample_bytree': 0.6, 'gamma': 0.5, 'learning_rate': 0.1, 'max_depth': 3, 'min_child_weight': 100, 'subsample': 1.0}\n",
            "Highest AUC: 0.99\n"
          ]
        }
      ]
    },
    {
      "cell_type": "markdown",
      "source": [
        "Now we have the set of parameters that produces the highest score, we can use them to train a model on the complete oversampled training set."
      ],
      "metadata": {
        "id": "sQbSjC45RfTN"
      }
    },
    {
      "cell_type": "code",
      "source": [
        "model = XGBClassifier(objective=\"binary:logistic\", eval_metric=\"auc\", use_label_encoder=False)\n",
        "model.set_params(**model_params)\n",
        "model.fit(X_train_smote, y_train_smote)"
      ],
      "metadata": {
        "colab": {
          "base_uri": "https://localhost:8080/",
          "height": 248
        },
        "id": "x0Qn7LzJBoT_",
        "outputId": "456d06b4-61d3-464a-c888-28e4ae7ac5cf"
      },
      "execution_count": null,
      "outputs": [
        {
          "output_type": "execute_result",
          "data": {
            "text/plain": [
              "XGBClassifier(base_score=None, booster=None, callbacks=None,\n",
              "              colsample_bylevel=None, colsample_bynode=None,\n",
              "              colsample_bytree=0.6, device=None, early_stopping_rounds=None,\n",
              "              enable_categorical=False, eval_metric='auc', feature_types=None,\n",
              "              gamma=0.5, grow_policy=None, importance_type=None,\n",
              "              interaction_constraints=None, learning_rate=0.1, max_bin=None,\n",
              "              max_cat_threshold=None, max_cat_to_onehot=None,\n",
              "              max_delta_step=None, max_depth=3, max_leaves=None,\n",
              "              min_child_weight=100, missing=nan, monotone_constraints=None,\n",
              "              multi_strategy=None, n_estimators=None, n_jobs=None,\n",
              "              num_parallel_tree=None, random_state=None, ...)"
            ],
            "text/html": [
              "<style>#sk-container-id-1 {color: black;background-color: white;}#sk-container-id-1 pre{padding: 0;}#sk-container-id-1 div.sk-toggleable {background-color: white;}#sk-container-id-1 label.sk-toggleable__label {cursor: pointer;display: block;width: 100%;margin-bottom: 0;padding: 0.3em;box-sizing: border-box;text-align: center;}#sk-container-id-1 label.sk-toggleable__label-arrow:before {content: \"▸\";float: left;margin-right: 0.25em;color: #696969;}#sk-container-id-1 label.sk-toggleable__label-arrow:hover:before {color: black;}#sk-container-id-1 div.sk-estimator:hover label.sk-toggleable__label-arrow:before {color: black;}#sk-container-id-1 div.sk-toggleable__content {max-height: 0;max-width: 0;overflow: hidden;text-align: left;background-color: #f0f8ff;}#sk-container-id-1 div.sk-toggleable__content pre {margin: 0.2em;color: black;border-radius: 0.25em;background-color: #f0f8ff;}#sk-container-id-1 input.sk-toggleable__control:checked~div.sk-toggleable__content {max-height: 200px;max-width: 100%;overflow: auto;}#sk-container-id-1 input.sk-toggleable__control:checked~label.sk-toggleable__label-arrow:before {content: \"▾\";}#sk-container-id-1 div.sk-estimator input.sk-toggleable__control:checked~label.sk-toggleable__label {background-color: #d4ebff;}#sk-container-id-1 div.sk-label input.sk-toggleable__control:checked~label.sk-toggleable__label {background-color: #d4ebff;}#sk-container-id-1 input.sk-hidden--visually {border: 0;clip: rect(1px 1px 1px 1px);clip: rect(1px, 1px, 1px, 1px);height: 1px;margin: -1px;overflow: hidden;padding: 0;position: absolute;width: 1px;}#sk-container-id-1 div.sk-estimator {font-family: monospace;background-color: #f0f8ff;border: 1px dotted black;border-radius: 0.25em;box-sizing: border-box;margin-bottom: 0.5em;}#sk-container-id-1 div.sk-estimator:hover {background-color: #d4ebff;}#sk-container-id-1 div.sk-parallel-item::after {content: \"\";width: 100%;border-bottom: 1px solid gray;flex-grow: 1;}#sk-container-id-1 div.sk-label:hover label.sk-toggleable__label {background-color: #d4ebff;}#sk-container-id-1 div.sk-serial::before {content: \"\";position: absolute;border-left: 1px solid gray;box-sizing: border-box;top: 0;bottom: 0;left: 50%;z-index: 0;}#sk-container-id-1 div.sk-serial {display: flex;flex-direction: column;align-items: center;background-color: white;padding-right: 0.2em;padding-left: 0.2em;position: relative;}#sk-container-id-1 div.sk-item {position: relative;z-index: 1;}#sk-container-id-1 div.sk-parallel {display: flex;align-items: stretch;justify-content: center;background-color: white;position: relative;}#sk-container-id-1 div.sk-item::before, #sk-container-id-1 div.sk-parallel-item::before {content: \"\";position: absolute;border-left: 1px solid gray;box-sizing: border-box;top: 0;bottom: 0;left: 50%;z-index: -1;}#sk-container-id-1 div.sk-parallel-item {display: flex;flex-direction: column;z-index: 1;position: relative;background-color: white;}#sk-container-id-1 div.sk-parallel-item:first-child::after {align-self: flex-end;width: 50%;}#sk-container-id-1 div.sk-parallel-item:last-child::after {align-self: flex-start;width: 50%;}#sk-container-id-1 div.sk-parallel-item:only-child::after {width: 0;}#sk-container-id-1 div.sk-dashed-wrapped {border: 1px dashed gray;margin: 0 0.4em 0.5em 0.4em;box-sizing: border-box;padding-bottom: 0.4em;background-color: white;}#sk-container-id-1 div.sk-label label {font-family: monospace;font-weight: bold;display: inline-block;line-height: 1.2em;}#sk-container-id-1 div.sk-label-container {text-align: center;}#sk-container-id-1 div.sk-container {/* jupyter's `normalize.less` sets `[hidden] { display: none; }` but bootstrap.min.css set `[hidden] { display: none !important; }` so we also need the `!important` here to be able to override the default hidden behavior on the sphinx rendered scikit-learn.org. See: https://github.com/scikit-learn/scikit-learn/issues/21755 */display: inline-block !important;position: relative;}#sk-container-id-1 div.sk-text-repr-fallback {display: none;}</style><div id=\"sk-container-id-1\" class=\"sk-top-container\"><div class=\"sk-text-repr-fallback\"><pre>XGBClassifier(base_score=None, booster=None, callbacks=None,\n",
              "              colsample_bylevel=None, colsample_bynode=None,\n",
              "              colsample_bytree=0.6, device=None, early_stopping_rounds=None,\n",
              "              enable_categorical=False, eval_metric=&#x27;auc&#x27;, feature_types=None,\n",
              "              gamma=0.5, grow_policy=None, importance_type=None,\n",
              "              interaction_constraints=None, learning_rate=0.1, max_bin=None,\n",
              "              max_cat_threshold=None, max_cat_to_onehot=None,\n",
              "              max_delta_step=None, max_depth=3, max_leaves=None,\n",
              "              min_child_weight=100, missing=nan, monotone_constraints=None,\n",
              "              multi_strategy=None, n_estimators=None, n_jobs=None,\n",
              "              num_parallel_tree=None, random_state=None, ...)</pre><b>In a Jupyter environment, please rerun this cell to show the HTML representation or trust the notebook. <br />On GitHub, the HTML representation is unable to render, please try loading this page with nbviewer.org.</b></div><div class=\"sk-container\" hidden><div class=\"sk-item\"><div class=\"sk-estimator sk-toggleable\"><input class=\"sk-toggleable__control sk-hidden--visually\" id=\"sk-estimator-id-1\" type=\"checkbox\" checked><label for=\"sk-estimator-id-1\" class=\"sk-toggleable__label sk-toggleable__label-arrow\">XGBClassifier</label><div class=\"sk-toggleable__content\"><pre>XGBClassifier(base_score=None, booster=None, callbacks=None,\n",
              "              colsample_bylevel=None, colsample_bynode=None,\n",
              "              colsample_bytree=0.6, device=None, early_stopping_rounds=None,\n",
              "              enable_categorical=False, eval_metric=&#x27;auc&#x27;, feature_types=None,\n",
              "              gamma=0.5, grow_policy=None, importance_type=None,\n",
              "              interaction_constraints=None, learning_rate=0.1, max_bin=None,\n",
              "              max_cat_threshold=None, max_cat_to_onehot=None,\n",
              "              max_delta_step=None, max_depth=3, max_leaves=None,\n",
              "              min_child_weight=100, missing=nan, monotone_constraints=None,\n",
              "              multi_strategy=None, n_estimators=None, n_jobs=None,\n",
              "              num_parallel_tree=None, random_state=None, ...)</pre></div></div></div></div></div>"
            ]
          },
          "metadata": {},
          "execution_count": 34
        }
      ]
    },
    {
      "cell_type": "markdown",
      "source": [
        "Model evaluation.\n",
        "\n",
        "We use an ROC AUC curve for evaluating how well our model performs on the holdout set (X_test, y_test)."
      ],
      "metadata": {
        "id": "kiDjtWTdRimU"
      }
    },
    {
      "cell_type": "code",
      "source": [
        "y_pred = model.predict_proba(X_test)[:,1]\n",
        "fp_r, tp_r, t = metrics.roc_curve(y_test, y_pred)\n",
        "auc = metrics.auc(fp_r, tp_r)\n",
        "\n",
        "plt.figure(figsize=(8, 6))\n",
        "\n",
        "plt.plot(fp_r, tp_r, label=\"AUC = %.2f\" % auc)\n",
        "plt.plot([0,1],[0,1],\"r--\")\n",
        "\n",
        "plt.ylabel(\"TP rate\")\n",
        "plt.xlabel(\"FP rate\")\n",
        "\n",
        "plt.legend(loc=4)\n",
        "plt.title(\"ROC Curve\")\n",
        "plt.show()"
      ],
      "metadata": {
        "colab": {
          "base_uri": "https://localhost:8080/",
          "height": 516
        },
        "id": "CUpJOR0zBsDN",
        "outputId": "bac81465-407d-4cce-f91f-cdbc5a7bd691"
      },
      "execution_count": null,
      "outputs": [
        {
          "output_type": "display_data",
          "data": {
            "text/plain": [
              "<Figure size 800x600 with 1 Axes>"
            ],
            "image/png": "[encoded data removed]"
          },
          "metadata": {}
        }
      ]
    },
    {
      "cell_type": "markdown",
      "source": [
        "There is an extra factor that comes into play in fraud detection, which is that the cost of one type of misclassification is substantially higher than the other. In other words, classifying a legitimate transaction as fraud is inconvenient at best, but letting a fraudulent transaction slip through has more dire consequences. In this context, offsetting the threshold in a way that reduces the false negatives at the expense of false positives becomes a viable strategy.\n",
        "\n",
        "Selecting the optimal threshold value can be performed in a number of ways. Looking at the ROC curve, we can intuitively see that the best performance (misclassification costs aside) would be yield by the threshold that puts us in the top left section of the curve (i.e. TP rate is high, FP rate is low). With this criterion in mind, we can define a distance metric to the top left corner of the curve and find a threshold that minimises it."
      ],
      "metadata": {
        "id": "x8EwUtwvRmOo"
      }
    },
    {
      "cell_type": "code",
      "source": [
        "t_opt_idx = np.argmax(tp_r - fp_r)\n",
        "t_opt = t[t_opt_idx]\n",
        "print(\"Threshold value is: %.2f\" % t_opt)"
      ],
      "metadata": {
        "colab": {
          "base_uri": "https://localhost:8080/"
        },
        "id": "Sv7BvtmNC4gn",
        "outputId": "79278e0b-79b9-47a5-83c9-ee53ad26004a"
      },
      "execution_count": null,
      "outputs": [
        {
          "output_type": "stream",
          "name": "stdout",
          "text": [
            "Threshold value is: 0.75\n"
          ]
        }
      ]
    },
    {
      "cell_type": "markdown",
      "source": [
        "We also manually inspect the confusion matrices at different threshold values.\n",
        "\n"
      ],
      "metadata": {
        "id": "eiZ4qgMuRoT6"
      }
    },
    {
      "cell_type": "code",
      "source": [
        "y_pred = model.predict_proba(X_test)[:,1]\n",
        "\n",
        "fig, axes = plt.subplots(3,3, figsize=(10,10))\n",
        "\n",
        "for t, ax in enumerate(axes.flat):\n",
        "    threshold = (t+1)/10\n",
        "\n",
        "    y_pred_int = (y_pred > threshold).astype(int)\n",
        "    c_matrix = metrics.confusion_matrix(y_test, y_pred_int)\n",
        "    sns.heatmap(c_matrix, annot=True, cmap=\"Blues\", fmt=\"d\", ax=ax, cbar=False)\n",
        "    ax.title.set_text(\"T=%.1f\" % threshold)\n",
        "\n",
        "plt.subplots_adjust(hspace=0.5, wspace=0.5)\n",
        "plt.suptitle(\"Impact of threshold adjustment on the error matrix\")"
      ],
      "metadata": {
        "colab": {
          "base_uri": "https://localhost:8080/",
          "height": 736
        },
        "id": "rGiA3kP0C7tT",
        "outputId": "2a51c0b6-c4e9-4240-81ad-d880f5f7fcc6"
      },
      "execution_count": null,
      "outputs": [
        {
          "output_type": "execute_result",
          "data": {
            "text/plain": [
              "Text(0.5, 0.98, 'Impact of threshold adjustment on the error matrix')"
            ]
          },
          "metadata": {},
          "execution_count": 37
        },
        {
          "output_type": "display_data",
          "data": {
            "text/plain": [
              "<Figure size 1000x1000 with 9 Axes>"
            ],
            "image/png": "[encoded data removed]"
          },
          "metadata": {}
        }
      ]
    },
    {
      "cell_type": "markdown",
      "source": [
        "Looking at the plot above, we can indeed confirm that T=0.8 gives the best interpretation. The false negatives and false positives are both low. Increasing the threshold further leads to missing more fraudulent transactions, and reducing it lower almost doubles the number false positives."
      ],
      "metadata": {
        "id": "akzY0PVZRziD"
      }
    },
    {
      "cell_type": "code",
      "source": [],
      "metadata": {
        "id": "gckoblBSRxgs"
      },
      "execution_count": null,
      "outputs": []
    }
  ]
}